{
  "nbformat": 4,
  "nbformat_minor": 0,
  "metadata": {
    "colab": {
      "name": "Function.ipynb",
      "provenance": [],
      "collapsed_sections": [],
      "authorship_tag": "ABX9TyMW1Xh6HeCrzrmjdYxyQfTz",
      "include_colab_link": true
    },
    "kernelspec": {
      "name": "python3",
      "display_name": "Python 3"
    },
    "language_info": {
      "name": "python"
    }
  },
  "cells": [
    {
      "cell_type": "markdown",
      "metadata": {
        "id": "view-in-github",
        "colab_type": "text"
      },
      "source": [
        "<a href=\"https://colab.research.google.com/github/tubaaktas/Fonksiyonlar/blob/main/Function.ipynb\" target=\"_parent\"><img src=\"https://colab.research.google.com/assets/colab-badge.svg\" alt=\"Open In Colab\"/></a>"
      ]
    },
    {
      "cell_type": "code",
      "execution_count": null,
      "metadata": {
        "id": "h53KHUNYYxu4"
      },
      "outputs": [],
      "source": [
        "def calculate(x): #fonksiyonun gövdesi, body\n",
        "  print(x*2)"
      ]
    },
    {
      "cell_type": "code",
      "source": [
        "calculate(2)"
      ],
      "metadata": {
        "id": "hgXHvqxnc9n9",
        "colab": {
          "base_uri": "https://localhost:8080/"
        },
        "outputId": "dc8db5e2-1d7d-451a-f417-ee8338c82341"
      },
      "execution_count": null,
      "outputs": [
        {
          "output_type": "stream",
          "name": "stdout",
          "text": [
            "4\n"
          ]
        }
      ]
    },
    {
      "cell_type": "code",
      "source": [
        "def sum(x,y): #iki argumanlı\n",
        "  print(x+y)"
      ],
      "metadata": {
        "id": "FsyYUt2lR83V"
      },
      "execution_count": null,
      "outputs": []
    },
    {
      "cell_type": "code",
      "source": [
        "sum(3,8)"
      ],
      "metadata": {
        "colab": {
          "base_uri": "https://localhost:8080/"
        },
        "id": "VoYlGCEGSaDl",
        "outputId": "e5385459-7e94-4248-9d93-e75eaac037f7"
      },
      "execution_count": null,
      "outputs": [
        {
          "output_type": "stream",
          "name": "stdout",
          "text": [
            "11\n"
          ]
        }
      ]
    },
    {
      "cell_type": "code",
      "source": [
        "def  func(*args): #*args kullanımı birden fazla value almamızı sağlar\n",
        "  total=0\n",
        "  for i in args:\n",
        "    total +=i\n",
        "    print(total)"
      ],
      "metadata": {
        "id": "C3Aitj6fSl4F"
      },
      "execution_count": null,
      "outputs": []
    },
    {
      "cell_type": "code",
      "source": [
        "func(1,2,3,4,5)"
      ],
      "metadata": {
        "colab": {
          "base_uri": "https://localhost:8080/"
        },
        "id": "tBomurKmTdX7",
        "outputId": "961b1eff-e2c1-4770-feb1-7e8e6edbf05c"
      },
      "execution_count": null,
      "outputs": [
        {
          "output_type": "stream",
          "name": "stdout",
          "text": [
            "1\n",
            "3\n",
            "6\n",
            "10\n",
            "15\n"
          ]
        }
      ]
    },
    {
      "cell_type": "code",
      "source": [
        "# def function_name(parameters/arguments):\n",
        "#     statement (functions body)\n",
        "\n",
        "def say_hi(string):\n",
        "  print(string)\n",
        "  print(\"Merhaba\")\n",
        "  print(\"Hello\")"
      ],
      "metadata": {
        "id": "7cS4ZOsDaKlM"
      },
      "execution_count": null,
      "outputs": []
    },
    {
      "cell_type": "code",
      "source": [
        "say_hi(\"Miuul\")"
      ],
      "metadata": {
        "colab": {
          "base_uri": "https://localhost:8080/"
        },
        "id": "4OqUq-9IaNOD",
        "outputId": "d894db06-ec4a-4490-f172-d7aaa9e23f87"
      },
      "execution_count": null,
      "outputs": [
        {
          "output_type": "stream",
          "name": "stdout",
          "text": [
            "Miuul\n",
            "Merhaba\n",
            "Hello\n"
          ]
        }
      ]
    },
    {
      "cell_type": "code",
      "source": [
        "def two_sum(*arg):\n",
        "  total = 0\n",
        "  for i in arg:\n",
        "    total += i\n",
        "  print(total)"
      ],
      "metadata": {
        "id": "sieeBXtTaPTr"
      },
      "execution_count": null,
      "outputs": []
    },
    {
      "cell_type": "code",
      "source": [
        "two_sum(1,2)"
      ],
      "metadata": {
        "colab": {
          "base_uri": "https://localhost:8080/"
        },
        "id": "1Vxsn9Mya3lS",
        "outputId": "b0ff085e-7f38-483f-b1d1-6805f85ff704"
      },
      "execution_count": null,
      "outputs": [
        {
          "output_type": "stream",
          "name": "stdout",
          "text": [
            "3\n"
          ]
        }
      ]
    },
    {
      "cell_type": "code",
      "source": [
        "list = [] #global\n",
        "\n",
        "def list_func(*arg):\n",
        "  #buraya veya for döngüsü icerisine bir degisken tanimlasaydik local degisken olacaktı.\n",
        "  for i in arg:\n",
        "    list.append(i)\n",
        "  print(list)"
      ],
      "metadata": {
        "id": "2WCTa-EGbETl"
      },
      "execution_count": null,
      "outputs": []
    },
    {
      "cell_type": "code",
      "source": [
        "list_func(2,3,4,5,6)"
      ],
      "metadata": {
        "colab": {
          "base_uri": "https://localhost:8080/"
        },
        "id": "7OWcxibcb1sM",
        "outputId": "6a6205a6-7c47-462a-c30b-8f782a46bae5"
      },
      "execution_count": null,
      "outputs": [
        {
          "output_type": "stream",
          "name": "stdout",
          "text": [
            "[2, 3, 4, 5, 6]\n"
          ]
        }
      ]
    },
    {
      "cell_type": "code",
      "source": [
        "list"
      ],
      "metadata": {
        "colab": {
          "base_uri": "https://localhost:8080/"
        },
        "id": "Z2rmnNtBb5ro",
        "outputId": "ff6134ed-0c02-4c32-950b-be9a2c65c1f2"
      },
      "execution_count": null,
      "outputs": [
        {
          "output_type": "execute_result",
          "data": {
            "text/plain": [
              "[2, 3, 4, 5, 6]"
            ]
          },
          "metadata": {},
          "execution_count": 33
        }
      ]
    },
    {
      "cell_type": "markdown",
      "source": [
        "# **Ön Tanımlı Argumanlar / Parametreler**\n",
        "# **(Default Parameters/Arguments)**"
      ],
      "metadata": {
        "id": "S-QUVJH1ioJi"
      }
    },
    {
      "cell_type": "code",
      "source": [
        "def  divide(a,b=1): #On tanimli olması sayesinde, bir bir parametreyi eksik girsek bile program hata vermeyecek ve calisir durumda olacaktir.\n",
        "  print(a/b)\n",
        "\n",
        "divide(10) #b yi yazmayi unuttuk diyelim\n",
        "divide(10,5)"
      ],
      "metadata": {
        "colab": {
          "base_uri": "https://localhost:8080/"
        },
        "id": "28QqSH96i1yK",
        "outputId": "f042aa4d-f7dc-4770-ab5b-4288ef9628b4"
      },
      "execution_count": null,
      "outputs": [
        {
          "output_type": "stream",
          "name": "stdout",
          "text": [
            "10.0\n",
            "2.0\n"
          ]
        }
      ]
    },
    {
      "cell_type": "code",
      "source": [
        "\n",
        "def say_smthng(string = \"Fonksiyona tanımlı default bir string var :)\"):\n",
        "  print(string)\n",
        "  print(\"Merhaba\")\n",
        "  print(\"Hello\")"
      ],
      "metadata": {
        "id": "LaPGQBRJjYBy"
      },
      "execution_count": null,
      "outputs": []
    },
    {
      "cell_type": "code",
      "source": [
        "say_smthng()"
      ],
      "metadata": {
        "colab": {
          "base_uri": "https://localhost:8080/"
        },
        "id": "NkwFMflOj_oF",
        "outputId": "aa37f50c-acc2-4274-8e41-7d8a2746e5cc"
      },
      "execution_count": null,
      "outputs": [
        {
          "output_type": "stream",
          "name": "stdout",
          "text": [
            "Fonksiyona tanımlı default bir string var :)\n",
            "Merhaba\n",
            "Hello\n"
          ]
        }
      ]
    },
    {
      "cell_type": "code",
      "source": [
        "say_smthng(\"Kendim string tanimladim :)\")"
      ],
      "metadata": {
        "colab": {
          "base_uri": "https://localhost:8080/"
        },
        "id": "c7QSfL6ikCPD",
        "outputId": "94a776b6-48cb-4ba9-bc46-3aecc7557813"
      },
      "execution_count": null,
      "outputs": [
        {
          "output_type": "stream",
          "name": "stdout",
          "text": [
            "Kendim string tanimladim :)\n",
            "Merhaba\n",
            "Hello\n"
          ]
        }
      ]
    },
    {
      "cell_type": "markdown",
      "source": [
        "Fonksiyon Yazma İhtiyacı"
      ],
      "metadata": {
        "id": "BP8X1hO9kTUF"
      }
    },
    {
      "cell_type": "code",
      "source": [
        "#warm, moisture, charge\n",
        "#tek tek işlem yapmak yerine tek bir fonksiyonla bu ihtiyacımızı kolaylaştırabiliriz.\n",
        "#DRY\n",
        "def funcc(warm, moisture, charge):\n",
        "  print((warm+moisture)/charge)\n",
        "\n",
        "\n",
        "type(funcc(40,23,12))"
      ],
      "metadata": {
        "colab": {
          "base_uri": "https://localhost:8080/"
        },
        "id": "lGh548uqkWGZ",
        "outputId": "e36b370f-5543-47a5-837f-8e91bc5c1705"
      },
      "execution_count": null,
      "outputs": [
        {
          "output_type": "stream",
          "name": "stdout",
          "text": [
            "5.25\n"
          ]
        },
        {
          "output_type": "execute_result",
          "data": {
            "text/plain": [
              "NoneType"
            ]
          },
          "metadata": {},
          "execution_count": 50
        }
      ]
    },
    {
      "cell_type": "code",
      "source": [
        "def funcc2(warm, moisture, charge): #return ile islem degeri dondurulur ve nontype olmaktan cikar.\n",
        "  return((warm+moisture)/charge)\n",
        "\n",
        "\n",
        "funcc2(23,22,12) * 10\n",
        "\n",
        "type(funcc2(23,22,12))"
      ],
      "metadata": {
        "colab": {
          "base_uri": "https://localhost:8080/"
        },
        "id": "jIrcpsaxmLOM",
        "outputId": "7779366c-a698-40bb-daba-91c75744c672"
      },
      "execution_count": null,
      "outputs": [
        {
          "output_type": "execute_result",
          "data": {
            "text/plain": [
              "float"
            ]
          },
          "metadata": {},
          "execution_count": 56
        }
      ]
    },
    {
      "cell_type": "code",
      "source": [
        "def funcc3(warm, moisture, charge): #return ile birden fazla deger dondurulebilir.\n",
        "  warm = warm *2\n",
        "  moisture = moisture *2\n",
        "  charge = charge *2\n",
        "  output = (warm+moisture)/charge\n",
        "  return warm, moisture, charge, output\n",
        "\n",
        "  \n",
        "funcc3(34,28,3)"
      ],
      "metadata": {
        "colab": {
          "base_uri": "https://localhost:8080/"
        },
        "id": "PeQhkO2hmyWM",
        "outputId": "4277af05-9dcf-441f-ccaa-4f62b3a1b13d"
      },
      "execution_count": null,
      "outputs": [
        {
          "output_type": "execute_result",
          "data": {
            "text/plain": [
              "(68, 56, 6, 20.666666666666668)"
            ]
          },
          "metadata": {},
          "execution_count": 55
        }
      ]
    },
    {
      "cell_type": "markdown",
      "source": [
        "# **Foksiyon İçinden Fonksiyon Çağırmak**"
      ],
      "metadata": {
        "id": "RHomD0z2oq6y"
      }
    },
    {
      "cell_type": "code",
      "source": [
        "def sum(a,b,c):\n",
        "  return int(a + b + c)\n",
        "\n",
        "def any_cal(x, y):\n",
        "  return x * 10 + 100 / y - x * 3"
      ],
      "metadata": {
        "id": "hcHsdaBmoqwH"
      },
      "execution_count": null,
      "outputs": []
    },
    {
      "cell_type": "code",
      "source": [
        "any_cal(2,3)"
      ],
      "metadata": {
        "colab": {
          "base_uri": "https://localhost:8080/"
        },
        "id": "L4is4hwkn_u6",
        "outputId": "6bc17795-8609-41be-b0bb-60602ded379b"
      },
      "execution_count": null,
      "outputs": [
        {
          "output_type": "execute_result",
          "data": {
            "text/plain": [
              "47.333333333333336"
            ]
          },
          "metadata": {},
          "execution_count": 60
        }
      ]
    },
    {
      "cell_type": "code",
      "source": [
        "def union_fun(a,b,c,y): #ic ice cagirilmis fonksiyonlar\n",
        "  x = sum(a,b,c)\n",
        "  z = any_cal(x,y)\n",
        "  print(z * 10)\n",
        "\n",
        "\n",
        "union_fun(2,3,4,5)"
      ],
      "metadata": {
        "colab": {
          "base_uri": "https://localhost:8080/"
        },
        "id": "pAHnMvIVp_gB",
        "outputId": "1a314175-8891-4063-eeba-cdf719428e1a"
      },
      "execution_count": null,
      "outputs": [
        {
          "output_type": "stream",
          "name": "stdout",
          "text": [
            "830.0\n"
          ]
        }
      ]
    },
    {
      "cell_type": "markdown",
      "source": [
        "# **Global & Local Değişkenler**"
      ],
      "metadata": {
        "id": "pBkKAcNxroZ8"
      }
    },
    {
      "cell_type": "code",
      "source": [
        "#Yukarıdaki ilk örneklerde de belirttigim gibi fonksiyon disina yazilan degiskenler global icine yazilanlar ise local :)\n",
        "list = [1,2,3] # list global\n",
        "\n",
        "def list_func(*arg):\n",
        "  list2 = [4,5,6] # list2 local\n",
        "  for i in arg:\n",
        "    a = i+2 # a local bir degisken\n",
        "    list.append(a)\n",
        "    list2.append(a)\n",
        "  print(list)\n",
        "  print(list2)\n"
      ],
      "metadata": {
        "id": "OdjwVle-rtTi"
      },
      "execution_count": null,
      "outputs": []
    },
    {
      "cell_type": "code",
      "source": [
        "list_func(9,8,7,6) #iki degiskene de ekleme yapti"
      ],
      "metadata": {
        "colab": {
          "base_uri": "https://localhost:8080/"
        },
        "id": "bm_U1QfgsUI_",
        "outputId": "409013d1-3f1b-4eaa-8cfa-af86efa1648c"
      },
      "execution_count": null,
      "outputs": [
        {
          "output_type": "stream",
          "name": "stdout",
          "text": [
            "[1, 2, 3, 11, 10, 9, 8]\n",
            "[4, 5, 6, 11, 10, 9, 8]\n"
          ]
        }
      ]
    }
  ]
}